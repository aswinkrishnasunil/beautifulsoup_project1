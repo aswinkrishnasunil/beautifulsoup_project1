{
 "cells": [
  {
   "cell_type": "code",
   "execution_count": 32,
   "id": "590a3ccd",
   "metadata": {},
   "outputs": [],
   "source": [
    "from bs4 import BeautifulSoup\n",
    "import requests\n",
    "import pandas as pd\n",
    "import numpy as np\n",
    "import sqlalchemy\n",
    "from sqlalchemy import create_engine,MetaData,Table,select"
   ]
  },
  {
   "cell_type": "code",
   "execution_count": 2,
   "id": "b0a665e4",
   "metadata": {},
   "outputs": [],
   "source": [
    "url = \"https://money.cnn.com/data/hotstocks/\"\n",
    "#headers = {'User-Agent': \"Mozilla/5.0 (Windows NT 10.0; Win64; x64) AppleWebKit/537.36 (KHTML, like Gecko) Chrome/42.0.2311.135 Safari/537.36 Edge/12.246\"} "
   ]
  },
  {
   "cell_type": "code",
   "execution_count": 3,
   "id": "c2f0dbf2",
   "metadata": {},
   "outputs": [],
   "source": [
    "res = requests.get(url)"
   ]
  },
  {
   "cell_type": "code",
   "execution_count": 4,
   "id": "c353b6d3",
   "metadata": {},
   "outputs": [],
   "source": [
    "soup = BeautifulSoup(res.content,\"html.parser\")"
   ]
  },
  {
   "cell_type": "code",
   "execution_count": 5,
   "id": "92794e47",
   "metadata": {},
   "outputs": [
    {
     "data": {
      "text/plain": [
       "'Hot Stocks - Stock Market Movers - CNNMoney'"
      ]
     },
     "execution_count": 5,
     "metadata": {},
     "output_type": "execute_result"
    }
   ],
   "source": [
    "soup.title.text"
   ]
  },
  {
   "cell_type": "code",
   "execution_count": 6,
   "id": "dc25db24",
   "metadata": {},
   "outputs": [],
   "source": [
    "b=soup.select( \".wsod_symbol\" )"
   ]
  },
  {
   "cell_type": "code",
   "execution_count": 7,
   "id": "6c7e6cac",
   "metadata": {},
   "outputs": [],
   "source": [
    "a=soup.find(\"table\",class_= \"wsod_dataTable wsod_dataTableBigAlt\" )\n"
   ]
  },
  {
   "cell_type": "code",
   "execution_count": 8,
   "id": "5142d016",
   "metadata": {},
   "outputs": [],
   "source": [
    "c=a.select( \".wsod_symbol\" )"
   ]
  },
  {
   "cell_type": "code",
   "execution_count": 9,
   "id": "ea540f8e",
   "metadata": {},
   "outputs": [],
   "source": [
    "symbols=[]\n",
    "for items in c:\n",
    "    symbols.append(items.text)"
   ]
  },
  {
   "cell_type": "code",
   "execution_count": 10,
   "id": "d8e1d2c0",
   "metadata": {},
   "outputs": [],
   "source": [
    "asymbol=symbols"
   ]
  },
  {
   "cell_type": "code",
   "execution_count": 11,
   "id": "40928cd3",
   "metadata": {},
   "outputs": [
    {
     "data": {
      "text/plain": [
       "['BAC', 'CCL', 'F', 'KO', 'TFC', 'T', 'VZ', 'PCG', 'C', 'NEE']"
      ]
     },
     "execution_count": 11,
     "metadata": {},
     "output_type": "execute_result"
    }
   ],
   "source": [
    "asymbol"
   ]
  },
  {
   "cell_type": "code",
   "execution_count": 12,
   "id": "0a81e51e",
   "metadata": {
    "scrolled": true
   },
   "outputs": [],
   "source": [
    "result =[]"
   ]
  },
  {
   "cell_type": "code",
   "execution_count": 13,
   "id": "860cc5fa",
   "metadata": {},
   "outputs": [
    {
     "name": "stdout",
     "output_type": "stream",
     "text": [
      "Bank of America Corporation (BAC)\n",
      "Open:- 26.61\n",
      "volume:- 14,305,382\n",
      "PERatio:- 26.61\n",
      "------------\n",
      "Carnival Corporation & plc (CCL)\n",
      "Open:- 12.82\n",
      "volume:- 9,312,154\n",
      "PERatio:- 12.82\n",
      "------------\n",
      "Ford Motor Company (F)\n",
      "Open:- 12.10\n",
      "volume:- 6,844,379\n",
      "PERatio:- 12.10\n",
      "------------\n",
      "The Coca-Cola Company (KO)\n",
      "Open:- 54.13\n",
      "volume:- 7,210,228\n",
      "PERatio:- 54.13\n",
      "------------\n",
      "Truist Financial Corporation (TFC)\n",
      "Open:- 29.37\n",
      "volume:- 6,682,820\n",
      "PERatio:- 29.37\n",
      "------------\n",
      "AT&T Inc. (T)\n",
      "Open:- 14.69\n",
      "volume:- 6,572,812\n",
      "PERatio:- 14.69\n",
      "------------\n",
      "Verizon Communications Inc. (VZ)\n",
      "Open:- 31.48\n",
      "volume:- 4,861,392\n",
      "PERatio:- 31.48\n",
      "------------\n",
      "PG&E Corporation (PCG)\n",
      "Open:- 15.62\n",
      "volume:- 4,779,819\n",
      "PERatio:- 15.62\n",
      "------------\n",
      "Citigroup Inc. (C)\n",
      "Open:- 41.14\n",
      "volume:- 4,115,110\n",
      "PERatio:- 41.14\n",
      "------------\n",
      "NextEra Energy, Inc. (NEE)\n",
      "Open:- 49.68\n",
      "volume:- 4,231,435\n",
      "PERatio:- 49.68\n",
      "------------\n"
     ]
    }
   ],
   "source": [
    "for items in asymbol:\n",
    "    url=\"https://finance.yahoo.com/quote/{}\".format(items)\n",
    "    req=requests.get(url.format('1'))\n",
    "    ysoup = BeautifulSoup(req.text,\"html.parser\")\n",
    "    \n",
    "    #print(items)\n",
    "    \n",
    "    name = ysoup.find('h1',class_='D(ib) Fz(18px)')\n",
    "    na=name.text\n",
    "    print(na)\n",
    "    \n",
    "    tab1=ysoup.find('table',{'class':\"W(100%)\"})\n",
    "    se=tab1.find('td',{'data-test': 'OPEN-value'})\n",
    "    op=se.text\n",
    "    print(\"Open:-\",op)\n",
    "    \n",
    "    #tab1=ysoup.find('table',{'class':\"W(100%)\"})\n",
    "    volume=tab1.find('td',{'data-test': 'TD_VOLUME-value'})\n",
    "    vol=volume.text\n",
    "    print(\"volume:-\",vol)\n",
    "    \n",
    "    tab2=ysoup.find('table',{'class':\"W(100%) M(0) Bdcl(c)\"})\n",
    "    per=tab1.find('td',{'data-test': 'PE_RATIO-value'})\n",
    "    pe=se.text\n",
    "    print(\"PERatio:-\",pe)\n",
    "    print(\"------------\")\n",
    "    \n",
    "    result.append([na,op,vol,pe])\n",
    "\n",
    "     "
   ]
  },
  {
   "cell_type": "code",
   "execution_count": 14,
   "id": "9fecadeb",
   "metadata": {},
   "outputs": [
    {
     "name": "stdout",
     "output_type": "stream",
     "text": [
      "[['Bank of America Corporation (BAC)', '26.61', '14,305,382', '26.61'], ['Carnival Corporation & plc (CCL)', '12.82', '9,312,154', '12.82'], ['Ford Motor Company (F)', '12.10', '6,844,379', '12.10'], ['The Coca-Cola Company (KO)', '54.13', '7,210,228', '54.13'], ['Truist Financial Corporation (TFC)', '29.37', '6,682,820', '29.37'], ['AT&T Inc. (T)', '14.69', '6,572,812', '14.69'], ['Verizon Communications Inc. (VZ)', '31.48', '4,861,392', '31.48'], ['PG&E Corporation (PCG)', '15.62', '4,779,819', '15.62'], ['Citigroup Inc. (C)', '41.14', '4,115,110', '41.14'], ['NextEra Energy, Inc. (NEE)', '49.68', '4,231,435', '49.68']]\n"
     ]
    }
   ],
   "source": [
    "print(result)"
   ]
  },
  {
   "cell_type": "code",
   "execution_count": 15,
   "id": "40cce401",
   "metadata": {},
   "outputs": [],
   "source": [
    "colname=['Company','Open_value','Volume','PE_Ratio']\n",
    "df = pd.DataFrame(data=result,columns=colname)"
   ]
  },
  {
   "cell_type": "code",
   "execution_count": 16,
   "id": "f1bd81ab",
   "metadata": {},
   "outputs": [
    {
     "data": {
      "text/html": [
       "<div>\n",
       "<style scoped>\n",
       "    .dataframe tbody tr th:only-of-type {\n",
       "        vertical-align: middle;\n",
       "    }\n",
       "\n",
       "    .dataframe tbody tr th {\n",
       "        vertical-align: top;\n",
       "    }\n",
       "\n",
       "    .dataframe thead th {\n",
       "        text-align: right;\n",
       "    }\n",
       "</style>\n",
       "<table border=\"1\" class=\"dataframe\">\n",
       "  <thead>\n",
       "    <tr style=\"text-align: right;\">\n",
       "      <th></th>\n",
       "      <th>Company</th>\n",
       "      <th>Open_value</th>\n",
       "      <th>Volume</th>\n",
       "      <th>PE_Ratio</th>\n",
       "    </tr>\n",
       "  </thead>\n",
       "  <tbody>\n",
       "    <tr>\n",
       "      <th>0</th>\n",
       "      <td>Bank of America Corporation (BAC)</td>\n",
       "      <td>26.61</td>\n",
       "      <td>14,305,382</td>\n",
       "      <td>26.61</td>\n",
       "    </tr>\n",
       "    <tr>\n",
       "      <th>1</th>\n",
       "      <td>Carnival Corporation &amp; plc (CCL)</td>\n",
       "      <td>12.82</td>\n",
       "      <td>9,312,154</td>\n",
       "      <td>12.82</td>\n",
       "    </tr>\n",
       "    <tr>\n",
       "      <th>2</th>\n",
       "      <td>Ford Motor Company (F)</td>\n",
       "      <td>12.10</td>\n",
       "      <td>6,844,379</td>\n",
       "      <td>12.10</td>\n",
       "    </tr>\n",
       "    <tr>\n",
       "      <th>3</th>\n",
       "      <td>The Coca-Cola Company (KO)</td>\n",
       "      <td>54.13</td>\n",
       "      <td>7,210,228</td>\n",
       "      <td>54.13</td>\n",
       "    </tr>\n",
       "    <tr>\n",
       "      <th>4</th>\n",
       "      <td>Truist Financial Corporation (TFC)</td>\n",
       "      <td>29.37</td>\n",
       "      <td>6,682,820</td>\n",
       "      <td>29.37</td>\n",
       "    </tr>\n",
       "    <tr>\n",
       "      <th>5</th>\n",
       "      <td>AT&amp;T Inc. (T)</td>\n",
       "      <td>14.69</td>\n",
       "      <td>6,572,812</td>\n",
       "      <td>14.69</td>\n",
       "    </tr>\n",
       "    <tr>\n",
       "      <th>6</th>\n",
       "      <td>Verizon Communications Inc. (VZ)</td>\n",
       "      <td>31.48</td>\n",
       "      <td>4,861,392</td>\n",
       "      <td>31.48</td>\n",
       "    </tr>\n",
       "    <tr>\n",
       "      <th>7</th>\n",
       "      <td>PG&amp;E Corporation (PCG)</td>\n",
       "      <td>15.62</td>\n",
       "      <td>4,779,819</td>\n",
       "      <td>15.62</td>\n",
       "    </tr>\n",
       "    <tr>\n",
       "      <th>8</th>\n",
       "      <td>Citigroup Inc. (C)</td>\n",
       "      <td>41.14</td>\n",
       "      <td>4,115,110</td>\n",
       "      <td>41.14</td>\n",
       "    </tr>\n",
       "    <tr>\n",
       "      <th>9</th>\n",
       "      <td>NextEra Energy, Inc. (NEE)</td>\n",
       "      <td>49.68</td>\n",
       "      <td>4,231,435</td>\n",
       "      <td>49.68</td>\n",
       "    </tr>\n",
       "  </tbody>\n",
       "</table>\n",
       "</div>"
      ],
      "text/plain": [
       "                              Company Open_value      Volume PE_Ratio\n",
       "0   Bank of America Corporation (BAC)      26.61  14,305,382    26.61\n",
       "1    Carnival Corporation & plc (CCL)      12.82   9,312,154    12.82\n",
       "2              Ford Motor Company (F)      12.10   6,844,379    12.10\n",
       "3          The Coca-Cola Company (KO)      54.13   7,210,228    54.13\n",
       "4  Truist Financial Corporation (TFC)      29.37   6,682,820    29.37\n",
       "5                       AT&T Inc. (T)      14.69   6,572,812    14.69\n",
       "6    Verizon Communications Inc. (VZ)      31.48   4,861,392    31.48\n",
       "7              PG&E Corporation (PCG)      15.62   4,779,819    15.62\n",
       "8                  Citigroup Inc. (C)      41.14   4,115,110    41.14\n",
       "9          NextEra Energy, Inc. (NEE)      49.68   4,231,435    49.68"
      ]
     },
     "execution_count": 16,
     "metadata": {},
     "output_type": "execute_result"
    }
   ],
   "source": [
    "df"
   ]
  },
  {
   "cell_type": "code",
   "execution_count": 17,
   "id": "8ab3443e",
   "metadata": {},
   "outputs": [],
   "source": [
    "df.to_csv('project1_2.csv',mode='w')   #exported to csv "
   ]
  },
  {
   "cell_type": "code",
   "execution_count": 18,
   "id": "d6546ce2",
   "metadata": {},
   "outputs": [],
   "source": [
    "df['Open_value'] = df['Open_value'].astype(str).astype(float)\n",
    "#df['Volume'] = df['Volume'].replace(',','').astype(int)\n",
    "df['PE_Ratio'] = df['PE_Ratio'].astype(str).astype(float)\n"
   ]
  },
  {
   "cell_type": "code",
   "execution_count": 19,
   "id": "a9227ab2",
   "metadata": {},
   "outputs": [
    {
     "name": "stdout",
     "output_type": "stream",
     "text": [
      "<class 'pandas.core.frame.DataFrame'>\n",
      "RangeIndex: 10 entries, 0 to 9\n",
      "Data columns (total 4 columns):\n",
      " #   Column      Non-Null Count  Dtype  \n",
      "---  ------      --------------  -----  \n",
      " 0   Company     10 non-null     object \n",
      " 1   Open_value  10 non-null     float64\n",
      " 2   Volume      10 non-null     object \n",
      " 3   PE_Ratio    10 non-null     float64\n",
      "dtypes: float64(2), object(2)\n",
      "memory usage: 452.0+ bytes\n"
     ]
    }
   ],
   "source": [
    "df.info()\n"
   ]
  },
  {
   "cell_type": "code",
   "execution_count": 20,
   "id": "c1d539e7",
   "metadata": {},
   "outputs": [],
   "source": [
    "dbase1 = create_engine('sqlite:///dbase1.db')"
   ]
  },
  {
   "cell_type": "code",
   "execution_count": 21,
   "id": "c7ec6af4",
   "metadata": {},
   "outputs": [
    {
     "data": {
      "text/plain": [
       "10"
      ]
     },
     "execution_count": 21,
     "metadata": {},
     "output_type": "execute_result"
    }
   ],
   "source": [
    "df.to_sql(name='stocks',con=dbase1,if_exists='replace', index=False)"
   ]
  },
  {
   "cell_type": "code",
   "execution_count": 22,
   "id": "7641da97",
   "metadata": {},
   "outputs": [
    {
     "data": {
      "text/html": [
       "<div>\n",
       "<style scoped>\n",
       "    .dataframe tbody tr th:only-of-type {\n",
       "        vertical-align: middle;\n",
       "    }\n",
       "\n",
       "    .dataframe tbody tr th {\n",
       "        vertical-align: top;\n",
       "    }\n",
       "\n",
       "    .dataframe thead th {\n",
       "        text-align: right;\n",
       "    }\n",
       "</style>\n",
       "<table border=\"1\" class=\"dataframe\">\n",
       "  <thead>\n",
       "    <tr style=\"text-align: right;\">\n",
       "      <th></th>\n",
       "      <th>Company</th>\n",
       "      <th>Open_value</th>\n",
       "      <th>Volume</th>\n",
       "      <th>PE_Ratio</th>\n",
       "    </tr>\n",
       "  </thead>\n",
       "  <tbody>\n",
       "    <tr>\n",
       "      <th>0</th>\n",
       "      <td>Bank of America Corporation (BAC)</td>\n",
       "      <td>26.61</td>\n",
       "      <td>14,305,382</td>\n",
       "      <td>26.61</td>\n",
       "    </tr>\n",
       "    <tr>\n",
       "      <th>1</th>\n",
       "      <td>Carnival Corporation &amp; plc (CCL)</td>\n",
       "      <td>12.82</td>\n",
       "      <td>9,312,154</td>\n",
       "      <td>12.82</td>\n",
       "    </tr>\n",
       "    <tr>\n",
       "      <th>2</th>\n",
       "      <td>Ford Motor Company (F)</td>\n",
       "      <td>12.10</td>\n",
       "      <td>6,844,379</td>\n",
       "      <td>12.10</td>\n",
       "    </tr>\n",
       "    <tr>\n",
       "      <th>3</th>\n",
       "      <td>The Coca-Cola Company (KO)</td>\n",
       "      <td>54.13</td>\n",
       "      <td>7,210,228</td>\n",
       "      <td>54.13</td>\n",
       "    </tr>\n",
       "    <tr>\n",
       "      <th>4</th>\n",
       "      <td>Truist Financial Corporation (TFC)</td>\n",
       "      <td>29.37</td>\n",
       "      <td>6,682,820</td>\n",
       "      <td>29.37</td>\n",
       "    </tr>\n",
       "    <tr>\n",
       "      <th>5</th>\n",
       "      <td>AT&amp;T Inc. (T)</td>\n",
       "      <td>14.69</td>\n",
       "      <td>6,572,812</td>\n",
       "      <td>14.69</td>\n",
       "    </tr>\n",
       "    <tr>\n",
       "      <th>6</th>\n",
       "      <td>Verizon Communications Inc. (VZ)</td>\n",
       "      <td>31.48</td>\n",
       "      <td>4,861,392</td>\n",
       "      <td>31.48</td>\n",
       "    </tr>\n",
       "    <tr>\n",
       "      <th>7</th>\n",
       "      <td>PG&amp;E Corporation (PCG)</td>\n",
       "      <td>15.62</td>\n",
       "      <td>4,779,819</td>\n",
       "      <td>15.62</td>\n",
       "    </tr>\n",
       "    <tr>\n",
       "      <th>8</th>\n",
       "      <td>Citigroup Inc. (C)</td>\n",
       "      <td>41.14</td>\n",
       "      <td>4,115,110</td>\n",
       "      <td>41.14</td>\n",
       "    </tr>\n",
       "    <tr>\n",
       "      <th>9</th>\n",
       "      <td>NextEra Energy, Inc. (NEE)</td>\n",
       "      <td>49.68</td>\n",
       "      <td>4,231,435</td>\n",
       "      <td>49.68</td>\n",
       "    </tr>\n",
       "  </tbody>\n",
       "</table>\n",
       "</div>"
      ],
      "text/plain": [
       "                              Company  Open_value      Volume  PE_Ratio\n",
       "0   Bank of America Corporation (BAC)       26.61  14,305,382     26.61\n",
       "1    Carnival Corporation & plc (CCL)       12.82   9,312,154     12.82\n",
       "2              Ford Motor Company (F)       12.10   6,844,379     12.10\n",
       "3          The Coca-Cola Company (KO)       54.13   7,210,228     54.13\n",
       "4  Truist Financial Corporation (TFC)       29.37   6,682,820     29.37\n",
       "5                       AT&T Inc. (T)       14.69   6,572,812     14.69\n",
       "6    Verizon Communications Inc. (VZ)       31.48   4,861,392     31.48\n",
       "7              PG&E Corporation (PCG)       15.62   4,779,819     15.62\n",
       "8                  Citigroup Inc. (C)       41.14   4,115,110     41.14\n",
       "9          NextEra Energy, Inc. (NEE)       49.68   4,231,435     49.68"
      ]
     },
     "execution_count": 22,
     "metadata": {},
     "output_type": "execute_result"
    }
   ],
   "source": [
    "pd.read_sql(sql='stocks',con=dbase1)"
   ]
  },
  {
   "cell_type": "code",
   "execution_count": 23,
   "id": "c37acaca",
   "metadata": {},
   "outputs": [
    {
     "data": {
      "text/plain": [
       "'1.4.39'"
      ]
     },
     "execution_count": 23,
     "metadata": {},
     "output_type": "execute_result"
    }
   ],
   "source": [
    "sqlalchemy.__version__"
   ]
  },
  {
   "cell_type": "markdown",
   "id": "2945d52d",
   "metadata": {},
   "source": [
    "# get a column \"company\""
   ]
  },
  {
   "cell_type": "code",
   "execution_count": 24,
   "id": "c9b817ab",
   "metadata": {},
   "outputs": [],
   "source": [
    "table_name = 'stocks'  \n",
    "column_name = 'Company'"
   ]
  },
  {
   "cell_type": "code",
   "execution_count": 25,
   "id": "eb4ddd81",
   "metadata": {},
   "outputs": [
    {
     "name": "stdout",
     "output_type": "stream",
     "text": [
      "The column 'Company' exists in the table 'stocks'.\n"
     ]
    }
   ],
   "source": [
    "print(f\"The column '{column_name}' exists in the table '{table_name}'.\")"
   ]
  },
  {
   "cell_type": "markdown",
   "id": "85ddcaed",
   "metadata": {},
   "source": [
    "# "
   ]
  },
  {
   "cell_type": "code",
   "execution_count": 26,
   "id": "d94f216b",
   "metadata": {},
   "outputs": [],
   "source": [
    "metadata = MetaData()"
   ]
  },
  {
   "cell_type": "code",
   "execution_count": 27,
   "id": "7153380c",
   "metadata": {},
   "outputs": [],
   "source": [
    "table = Table(table_name, metadata, autoload=True, autoload_with=dbase1)"
   ]
  },
  {
   "cell_type": "code",
   "execution_count": 28,
   "id": "112511b5",
   "metadata": {},
   "outputs": [],
   "source": [
    "connection = dbase1.connect()"
   ]
  },
  {
   "cell_type": "code",
   "execution_count": 29,
   "id": "b7a1ebd5",
   "metadata": {},
   "outputs": [],
   "source": [
    "select_stmt = table.select().with_only_columns([table.c[column_name]])\n",
    "result = connection.execute(select_stmt)"
   ]
  },
  {
   "cell_type": "code",
   "execution_count": 30,
   "id": "a7edd808",
   "metadata": {},
   "outputs": [
    {
     "name": "stdout",
     "output_type": "stream",
     "text": [
      "Bank of America Corporation (BAC)\n",
      "Carnival Corporation & plc (CCL)\n",
      "Ford Motor Company (F)\n",
      "The Coca-Cola Company (KO)\n",
      "Truist Financial Corporation (TFC)\n",
      "AT&T Inc. (T)\n",
      "Verizon Communications Inc. (VZ)\n",
      "PG&E Corporation (PCG)\n",
      "Citigroup Inc. (C)\n",
      "NextEra Energy, Inc. (NEE)\n"
     ]
    }
   ],
   "source": [
    "for row in result:\n",
    "    print(row[column_name])\n",
    "\n",
    "# Close the database connection\n",
    "connection.close()"
   ]
  },
  {
   "cell_type": "markdown",
   "id": "483cb37e",
   "metadata": {},
   "source": [
    "# check an element"
   ]
  },
  {
   "cell_type": "code",
   "execution_count": 33,
   "id": "4fd9485b",
   "metadata": {},
   "outputs": [
    {
     "name": "stdout",
     "output_type": "stream",
     "text": [
      "Row found:\n",
      "('Ford Motor Company (F)', 12.1, '6,844,379', 12.1)\n"
     ]
    }
   ],
   "source": [
    "table = Table('stocks', metadata, autoload=True, autoload_with=dbase1)\n",
    "element_to_find = 'Ford Motor Company (F)'\n",
    "\n",
    "# Create a query to fetch a row based on a condition\n",
    "query = select([table]).where(table.c.Company == element_to_find)\n",
    "\n",
    "# Execute the query\n",
    "result = dbase1.execute(query)\n",
    "\n",
    "# Fetch the row\n",
    "row = result.fetchone()\n",
    "\n",
    "if row:\n",
    "    print(\"Row found:\")\n",
    "    print(row)\n",
    "else:\n",
    "    print(\"Row not found\")\n",
    "\n",
    "# Close the engine when done\n",
    "#engine.dispose()"
   ]
  },
  {
   "cell_type": "code",
   "execution_count": null,
   "id": "c469a61a",
   "metadata": {},
   "outputs": [],
   "source": []
  }
 ],
 "metadata": {
  "kernelspec": {
   "display_name": "Python 3 (ipykernel)",
   "language": "python",
   "name": "python3"
  },
  "language_info": {
   "codemirror_mode": {
    "name": "ipython",
    "version": 3
   },
   "file_extension": ".py",
   "mimetype": "text/x-python",
   "name": "python",
   "nbconvert_exporter": "python",
   "pygments_lexer": "ipython3",
   "version": "3.11.4"
  }
 },
 "nbformat": 4,
 "nbformat_minor": 5
}
