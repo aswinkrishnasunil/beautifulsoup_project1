{
 "cells": [
  {
   "cell_type": "code",
   "execution_count": 1,
   "id": "590a3ccd",
   "metadata": {},
   "outputs": [],
   "source": [
    "from bs4 import BeautifulSoup\n",
    "import requests\n",
    "import pandas as pd\n",
    "import numpy as np\n",
    "import sqlalchemy\n",
    "from sqlalchemy import create_engine,MetaData,Table"
   ]
  },
  {
   "cell_type": "code",
   "execution_count": 2,
   "id": "b0a665e4",
   "metadata": {},
   "outputs": [],
   "source": [
    "url = \"https://money.cnn.com/data/hotstocks/\"\n",
    "#headers = {'User-Agent': \"Mozilla/5.0 (Windows NT 10.0; Win64; x64) AppleWebKit/537.36 (KHTML, like Gecko) Chrome/42.0.2311.135 Safari/537.36 Edge/12.246\"} "
   ]
  },
  {
   "cell_type": "code",
   "execution_count": 3,
   "id": "c2f0dbf2",
   "metadata": {},
   "outputs": [],
   "source": [
    "res = requests.get(url)"
   ]
  },
  {
   "cell_type": "code",
   "execution_count": 4,
   "id": "c353b6d3",
   "metadata": {},
   "outputs": [],
   "source": [
    "soup = BeautifulSoup(res.content,\"html.parser\")"
   ]
  },
  {
   "cell_type": "code",
   "execution_count": 5,
   "id": "92794e47",
   "metadata": {},
   "outputs": [
    {
     "data": {
      "text/plain": [
       "'Hot Stocks - Stock Market Movers - CNNMoney'"
      ]
     },
     "execution_count": 5,
     "metadata": {},
     "output_type": "execute_result"
    }
   ],
   "source": [
    "soup.title.text"
   ]
  },
  {
   "cell_type": "code",
   "execution_count": 6,
   "id": "dc25db24",
   "metadata": {},
   "outputs": [],
   "source": [
    "b=soup.select( \".wsod_symbol\" )"
   ]
  },
  {
   "cell_type": "code",
   "execution_count": 24,
   "id": "6c7e6cac",
   "metadata": {},
   "outputs": [],
   "source": [
    "a=soup.find(\"table\",class_= \"wsod_dataTable wsod_dataTableBigAlt\" )\n"
   ]
  },
  {
   "cell_type": "code",
   "execution_count": 25,
   "id": "5142d016",
   "metadata": {},
   "outputs": [],
   "source": [
    "c=a.select( \".wsod_symbol\" )"
   ]
  },
  {
   "cell_type": "code",
   "execution_count": 26,
   "id": "ea540f8e",
   "metadata": {},
   "outputs": [],
   "source": [
    "symbols=[]\n",
    "for items in c:\n",
    "    symbols.append(items.text)"
   ]
  },
  {
   "cell_type": "code",
   "execution_count": 27,
   "id": "d8e1d2c0",
   "metadata": {},
   "outputs": [],
   "source": [
    "asymbol=symbols"
   ]
  },
  {
   "cell_type": "code",
   "execution_count": 28,
   "id": "40928cd3",
   "metadata": {},
   "outputs": [
    {
     "data": {
      "text/plain": [
       "['CCL', 'BAC', 'XOM', 'F', 'T', 'OXY', 'NCLH', 'DAL', 'VZ', 'RTX']"
      ]
     },
     "execution_count": 28,
     "metadata": {},
     "output_type": "execute_result"
    }
   ],
   "source": [
    "asymbol"
   ]
  },
  {
   "cell_type": "code",
   "execution_count": 29,
   "id": "0a81e51e",
   "metadata": {
    "scrolled": true
   },
   "outputs": [],
   "source": [
    "result =[]"
   ]
  },
  {
   "cell_type": "code",
   "execution_count": 30,
   "id": "860cc5fa",
   "metadata": {},
   "outputs": [
    {
     "name": "stdout",
     "output_type": "stream",
     "text": [
      "Carnival Corporation & plc (CCL)\n",
      "Open:- 13.07\n",
      "volume:- 16,559,190\n",
      "PERatio:- 13.07\n",
      "------------\n",
      "Bank of America Corporation (BAC)\n",
      "Open:- 25.76\n",
      "volume:- 9,816,658\n",
      "PERatio:- 25.76\n",
      "------------\n",
      "Exxon Mobil Corporation (XOM)\n",
      "Open:- 110.44\n",
      "volume:- 9,153,211\n",
      "PERatio:- 110.44\n",
      "------------\n",
      "Ford Motor Company (F)\n",
      "Open:- 11.80\n",
      "volume:- 9,120,566\n",
      "PERatio:- 11.80\n",
      "------------\n",
      "AT&T Inc. (T)\n",
      "Open:- 14.47\n",
      "volume:- 8,658,408\n",
      "PERatio:- 14.47\n",
      "------------\n",
      "Occidental Petroleum Corporation (OXY)\n",
      "Open:- 63.56\n",
      "volume:- 7,681,419\n",
      "PERatio:- 63.56\n",
      "------------\n",
      "Norwegian Cruise Line Holdings Ltd. (NCLH)\n",
      "Open:- 15.85\n",
      "volume:- 6,921,017\n",
      "PERatio:- 15.85\n",
      "------------\n",
      "Delta Air Lines, Inc. (DAL)\n",
      "Open:- 35.71\n",
      "volume:- 6,054,495\n",
      "PERatio:- 35.71\n",
      "------------\n",
      "Verizon Communications Inc. (VZ)\n",
      "Open:- 30.74\n",
      "volume:- 5,556,446\n",
      "PERatio:- 30.74\n",
      "------------\n",
      "RTX Corporation (RTX)\n",
      "Open:- 73.20\n",
      "volume:- 5,603,488\n",
      "PERatio:- 73.20\n",
      "------------\n"
     ]
    }
   ],
   "source": [
    "for items in asymbol:\n",
    "    url=\"https://finance.yahoo.com/quote/{}\".format(items)\n",
    "    req=requests.get(url.format('1'))\n",
    "    ysoup = BeautifulSoup(req.text,\"html.parser\")\n",
    "    \n",
    "    #print(items)\n",
    "    \n",
    "    name = ysoup.find('h1',class_='D(ib) Fz(18px)')\n",
    "    na=name.text\n",
    "    print(na)\n",
    "    \n",
    "    tab1=ysoup.find('table',{'class':\"W(100%)\"})\n",
    "    se=tab1.find('td',{'data-test': 'OPEN-value'})\n",
    "    op=se.text\n",
    "    print(\"Open:-\",op)\n",
    "    \n",
    "    #tab1=ysoup.find('table',{'class':\"W(100%)\"})\n",
    "    volume=tab1.find('td',{'data-test': 'TD_VOLUME-value'})\n",
    "    vol=volume.text\n",
    "    print(\"volume:-\",vol)\n",
    "    \n",
    "    tab2=ysoup.find('table',{'class':\"W(100%) M(0) Bdcl(c)\"})\n",
    "    per=tab1.find('td',{'data-test': 'PE_RATIO-value'})\n",
    "    pe=se.text\n",
    "    print(\"PERatio:-\",pe)\n",
    "    print(\"------------\")\n",
    "    \n",
    "    result.append([na,op,vol,pe])\n",
    "\n",
    "     "
   ]
  },
  {
   "cell_type": "code",
   "execution_count": 32,
   "id": "9fecadeb",
   "metadata": {},
   "outputs": [
    {
     "name": "stdout",
     "output_type": "stream",
     "text": [
      "[['Carnival Corporation & plc (CCL)', '13.07', '16,559,190', '13.07'], ['Bank of America Corporation (BAC)', '25.76', '9,816,658', '25.76'], ['Exxon Mobil Corporation (XOM)', '110.44', '9,153,211', '110.44'], ['Ford Motor Company (F)', '11.80', '9,120,566', '11.80'], ['AT&T Inc. (T)', '14.47', '8,658,408', '14.47'], ['Occidental Petroleum Corporation (OXY)', '63.56', '7,681,419', '63.56'], ['Norwegian Cruise Line Holdings Ltd. (NCLH)', '15.85', '6,921,017', '15.85'], ['Delta Air Lines, Inc. (DAL)', '35.71', '6,054,495', '35.71'], ['Verizon Communications Inc. (VZ)', '30.74', '5,556,446', '30.74'], ['RTX Corporation (RTX)', '73.20', '5,603,488', '73.20']]\n"
     ]
    }
   ],
   "source": [
    "print(result)"
   ]
  },
  {
   "cell_type": "code",
   "execution_count": 33,
   "id": "40cce401",
   "metadata": {},
   "outputs": [],
   "source": [
    "colname=['Company','Open_value','Volume','PE_Ratio']\n",
    "df = pd.DataFrame(data=result,columns=colname)"
   ]
  },
  {
   "cell_type": "code",
   "execution_count": 34,
   "id": "f1bd81ab",
   "metadata": {},
   "outputs": [
    {
     "data": {
      "text/html": [
       "<div>\n",
       "<style scoped>\n",
       "    .dataframe tbody tr th:only-of-type {\n",
       "        vertical-align: middle;\n",
       "    }\n",
       "\n",
       "    .dataframe tbody tr th {\n",
       "        vertical-align: top;\n",
       "    }\n",
       "\n",
       "    .dataframe thead th {\n",
       "        text-align: right;\n",
       "    }\n",
       "</style>\n",
       "<table border=\"1\" class=\"dataframe\">\n",
       "  <thead>\n",
       "    <tr style=\"text-align: right;\">\n",
       "      <th></th>\n",
       "      <th>Company</th>\n",
       "      <th>Open_value</th>\n",
       "      <th>Volume</th>\n",
       "      <th>PE_Ratio</th>\n",
       "    </tr>\n",
       "  </thead>\n",
       "  <tbody>\n",
       "    <tr>\n",
       "      <th>0</th>\n",
       "      <td>Carnival Corporation &amp; plc (CCL)</td>\n",
       "      <td>13.07</td>\n",
       "      <td>16,559,190</td>\n",
       "      <td>13.07</td>\n",
       "    </tr>\n",
       "    <tr>\n",
       "      <th>1</th>\n",
       "      <td>Bank of America Corporation (BAC)</td>\n",
       "      <td>25.76</td>\n",
       "      <td>9,816,658</td>\n",
       "      <td>25.76</td>\n",
       "    </tr>\n",
       "    <tr>\n",
       "      <th>2</th>\n",
       "      <td>Exxon Mobil Corporation (XOM)</td>\n",
       "      <td>110.44</td>\n",
       "      <td>9,153,211</td>\n",
       "      <td>110.44</td>\n",
       "    </tr>\n",
       "    <tr>\n",
       "      <th>3</th>\n",
       "      <td>Ford Motor Company (F)</td>\n",
       "      <td>11.80</td>\n",
       "      <td>9,120,566</td>\n",
       "      <td>11.80</td>\n",
       "    </tr>\n",
       "    <tr>\n",
       "      <th>4</th>\n",
       "      <td>AT&amp;T Inc. (T)</td>\n",
       "      <td>14.47</td>\n",
       "      <td>8,658,408</td>\n",
       "      <td>14.47</td>\n",
       "    </tr>\n",
       "    <tr>\n",
       "      <th>5</th>\n",
       "      <td>Occidental Petroleum Corporation (OXY)</td>\n",
       "      <td>63.56</td>\n",
       "      <td>7,681,419</td>\n",
       "      <td>63.56</td>\n",
       "    </tr>\n",
       "    <tr>\n",
       "      <th>6</th>\n",
       "      <td>Norwegian Cruise Line Holdings Ltd. (NCLH)</td>\n",
       "      <td>15.85</td>\n",
       "      <td>6,921,017</td>\n",
       "      <td>15.85</td>\n",
       "    </tr>\n",
       "    <tr>\n",
       "      <th>7</th>\n",
       "      <td>Delta Air Lines, Inc. (DAL)</td>\n",
       "      <td>35.71</td>\n",
       "      <td>6,054,495</td>\n",
       "      <td>35.71</td>\n",
       "    </tr>\n",
       "    <tr>\n",
       "      <th>8</th>\n",
       "      <td>Verizon Communications Inc. (VZ)</td>\n",
       "      <td>30.74</td>\n",
       "      <td>5,556,446</td>\n",
       "      <td>30.74</td>\n",
       "    </tr>\n",
       "    <tr>\n",
       "      <th>9</th>\n",
       "      <td>RTX Corporation (RTX)</td>\n",
       "      <td>73.20</td>\n",
       "      <td>5,603,488</td>\n",
       "      <td>73.20</td>\n",
       "    </tr>\n",
       "  </tbody>\n",
       "</table>\n",
       "</div>"
      ],
      "text/plain": [
       "                                      Company Open_value      Volume PE_Ratio\n",
       "0            Carnival Corporation & plc (CCL)      13.07  16,559,190    13.07\n",
       "1           Bank of America Corporation (BAC)      25.76   9,816,658    25.76\n",
       "2               Exxon Mobil Corporation (XOM)     110.44   9,153,211   110.44\n",
       "3                      Ford Motor Company (F)      11.80   9,120,566    11.80\n",
       "4                               AT&T Inc. (T)      14.47   8,658,408    14.47\n",
       "5      Occidental Petroleum Corporation (OXY)      63.56   7,681,419    63.56\n",
       "6  Norwegian Cruise Line Holdings Ltd. (NCLH)      15.85   6,921,017    15.85\n",
       "7                 Delta Air Lines, Inc. (DAL)      35.71   6,054,495    35.71\n",
       "8            Verizon Communications Inc. (VZ)      30.74   5,556,446    30.74\n",
       "9                       RTX Corporation (RTX)      73.20   5,603,488    73.20"
      ]
     },
     "execution_count": 34,
     "metadata": {},
     "output_type": "execute_result"
    }
   ],
   "source": [
    "df"
   ]
  },
  {
   "cell_type": "code",
   "execution_count": 35,
   "id": "8ab3443e",
   "metadata": {},
   "outputs": [],
   "source": [
    "df.to_csv('project1_2.csv',mode='w')   #exported to csv "
   ]
  },
  {
   "cell_type": "code",
   "execution_count": 36,
   "id": "d6546ce2",
   "metadata": {},
   "outputs": [],
   "source": [
    "df['Open_value'] = df['Open_value'].astype(str).astype(float)\n",
    "#df['Volume'] = df['Volume'].replace(',','').astype(int)\n",
    "df['PE_Ratio'] = df['PE_Ratio'].astype(str).astype(float)\n"
   ]
  },
  {
   "cell_type": "code",
   "execution_count": 37,
   "id": "a9227ab2",
   "metadata": {},
   "outputs": [
    {
     "name": "stdout",
     "output_type": "stream",
     "text": [
      "<class 'pandas.core.frame.DataFrame'>\n",
      "RangeIndex: 10 entries, 0 to 9\n",
      "Data columns (total 4 columns):\n",
      " #   Column      Non-Null Count  Dtype  \n",
      "---  ------      --------------  -----  \n",
      " 0   Company     10 non-null     object \n",
      " 1   Open_value  10 non-null     float64\n",
      " 2   Volume      10 non-null     object \n",
      " 3   PE_Ratio    10 non-null     float64\n",
      "dtypes: float64(2), object(2)\n",
      "memory usage: 452.0+ bytes\n"
     ]
    }
   ],
   "source": [
    "df.info()\n"
   ]
  },
  {
   "cell_type": "code",
   "execution_count": 38,
   "id": "c1d539e7",
   "metadata": {},
   "outputs": [],
   "source": [
    "dbase1 = create_engine('sqlite:///dbase1.db')"
   ]
  },
  {
   "cell_type": "code",
   "execution_count": 39,
   "id": "c7ec6af4",
   "metadata": {},
   "outputs": [
    {
     "data": {
      "text/plain": [
       "10"
      ]
     },
     "execution_count": 39,
     "metadata": {},
     "output_type": "execute_result"
    }
   ],
   "source": [
    "df.to_sql(name='stocks',con=dbase1,if_exists='replace', index=False)"
   ]
  },
  {
   "cell_type": "code",
   "execution_count": 40,
   "id": "7641da97",
   "metadata": {},
   "outputs": [
    {
     "data": {
      "text/html": [
       "<div>\n",
       "<style scoped>\n",
       "    .dataframe tbody tr th:only-of-type {\n",
       "        vertical-align: middle;\n",
       "    }\n",
       "\n",
       "    .dataframe tbody tr th {\n",
       "        vertical-align: top;\n",
       "    }\n",
       "\n",
       "    .dataframe thead th {\n",
       "        text-align: right;\n",
       "    }\n",
       "</style>\n",
       "<table border=\"1\" class=\"dataframe\">\n",
       "  <thead>\n",
       "    <tr style=\"text-align: right;\">\n",
       "      <th></th>\n",
       "      <th>Company</th>\n",
       "      <th>Open_value</th>\n",
       "      <th>Volume</th>\n",
       "      <th>PE_Ratio</th>\n",
       "    </tr>\n",
       "  </thead>\n",
       "  <tbody>\n",
       "    <tr>\n",
       "      <th>0</th>\n",
       "      <td>Carnival Corporation &amp; plc (CCL)</td>\n",
       "      <td>13.07</td>\n",
       "      <td>16,559,190</td>\n",
       "      <td>13.07</td>\n",
       "    </tr>\n",
       "    <tr>\n",
       "      <th>1</th>\n",
       "      <td>Bank of America Corporation (BAC)</td>\n",
       "      <td>25.76</td>\n",
       "      <td>9,816,658</td>\n",
       "      <td>25.76</td>\n",
       "    </tr>\n",
       "    <tr>\n",
       "      <th>2</th>\n",
       "      <td>Exxon Mobil Corporation (XOM)</td>\n",
       "      <td>110.44</td>\n",
       "      <td>9,153,211</td>\n",
       "      <td>110.44</td>\n",
       "    </tr>\n",
       "    <tr>\n",
       "      <th>3</th>\n",
       "      <td>Ford Motor Company (F)</td>\n",
       "      <td>11.80</td>\n",
       "      <td>9,120,566</td>\n",
       "      <td>11.80</td>\n",
       "    </tr>\n",
       "    <tr>\n",
       "      <th>4</th>\n",
       "      <td>AT&amp;T Inc. (T)</td>\n",
       "      <td>14.47</td>\n",
       "      <td>8,658,408</td>\n",
       "      <td>14.47</td>\n",
       "    </tr>\n",
       "    <tr>\n",
       "      <th>5</th>\n",
       "      <td>Occidental Petroleum Corporation (OXY)</td>\n",
       "      <td>63.56</td>\n",
       "      <td>7,681,419</td>\n",
       "      <td>63.56</td>\n",
       "    </tr>\n",
       "    <tr>\n",
       "      <th>6</th>\n",
       "      <td>Norwegian Cruise Line Holdings Ltd. (NCLH)</td>\n",
       "      <td>15.85</td>\n",
       "      <td>6,921,017</td>\n",
       "      <td>15.85</td>\n",
       "    </tr>\n",
       "    <tr>\n",
       "      <th>7</th>\n",
       "      <td>Delta Air Lines, Inc. (DAL)</td>\n",
       "      <td>35.71</td>\n",
       "      <td>6,054,495</td>\n",
       "      <td>35.71</td>\n",
       "    </tr>\n",
       "    <tr>\n",
       "      <th>8</th>\n",
       "      <td>Verizon Communications Inc. (VZ)</td>\n",
       "      <td>30.74</td>\n",
       "      <td>5,556,446</td>\n",
       "      <td>30.74</td>\n",
       "    </tr>\n",
       "    <tr>\n",
       "      <th>9</th>\n",
       "      <td>RTX Corporation (RTX)</td>\n",
       "      <td>73.20</td>\n",
       "      <td>5,603,488</td>\n",
       "      <td>73.20</td>\n",
       "    </tr>\n",
       "  </tbody>\n",
       "</table>\n",
       "</div>"
      ],
      "text/plain": [
       "                                      Company  Open_value      Volume  \\\n",
       "0            Carnival Corporation & plc (CCL)       13.07  16,559,190   \n",
       "1           Bank of America Corporation (BAC)       25.76   9,816,658   \n",
       "2               Exxon Mobil Corporation (XOM)      110.44   9,153,211   \n",
       "3                      Ford Motor Company (F)       11.80   9,120,566   \n",
       "4                               AT&T Inc. (T)       14.47   8,658,408   \n",
       "5      Occidental Petroleum Corporation (OXY)       63.56   7,681,419   \n",
       "6  Norwegian Cruise Line Holdings Ltd. (NCLH)       15.85   6,921,017   \n",
       "7                 Delta Air Lines, Inc. (DAL)       35.71   6,054,495   \n",
       "8            Verizon Communications Inc. (VZ)       30.74   5,556,446   \n",
       "9                       RTX Corporation (RTX)       73.20   5,603,488   \n",
       "\n",
       "   PE_Ratio  \n",
       "0     13.07  \n",
       "1     25.76  \n",
       "2    110.44  \n",
       "3     11.80  \n",
       "4     14.47  \n",
       "5     63.56  \n",
       "6     15.85  \n",
       "7     35.71  \n",
       "8     30.74  \n",
       "9     73.20  "
      ]
     },
     "execution_count": 40,
     "metadata": {},
     "output_type": "execute_result"
    }
   ],
   "source": [
    "pd.read_sql(sql='stocks',con=dbase1)"
   ]
  },
  {
   "cell_type": "code",
   "execution_count": 41,
   "id": "c37acaca",
   "metadata": {},
   "outputs": [
    {
     "data": {
      "text/plain": [
       "'1.4.39'"
      ]
     },
     "execution_count": 41,
     "metadata": {},
     "output_type": "execute_result"
    }
   ],
   "source": [
    "sqlalchemy.__version__"
   ]
  },
  {
   "cell_type": "markdown",
   "id": "2945d52d",
   "metadata": {},
   "source": [
    "# get a column \"company\""
   ]
  },
  {
   "cell_type": "code",
   "execution_count": 42,
   "id": "c9b817ab",
   "metadata": {},
   "outputs": [],
   "source": [
    "table_name = 'stocks'  \n",
    "column_name = 'Company'"
   ]
  },
  {
   "cell_type": "code",
   "execution_count": 43,
   "id": "eb4ddd81",
   "metadata": {},
   "outputs": [
    {
     "name": "stdout",
     "output_type": "stream",
     "text": [
      "The column 'Company' exists in the table 'stocks'.\n"
     ]
    }
   ],
   "source": [
    "print(f\"The column '{column_name}' exists in the table '{table_name}'.\")"
   ]
  },
  {
   "cell_type": "markdown",
   "id": "85ddcaed",
   "metadata": {},
   "source": [
    "# "
   ]
  },
  {
   "cell_type": "code",
   "execution_count": 44,
   "id": "d94f216b",
   "metadata": {},
   "outputs": [],
   "source": [
    "metadata = MetaData()"
   ]
  },
  {
   "cell_type": "code",
   "execution_count": 45,
   "id": "7153380c",
   "metadata": {},
   "outputs": [],
   "source": [
    "table = Table(table_name, metadata, autoload=True, autoload_with=dbase1)"
   ]
  },
  {
   "cell_type": "code",
   "execution_count": 46,
   "id": "112511b5",
   "metadata": {},
   "outputs": [],
   "source": [
    "connection = dbase1.connect()"
   ]
  },
  {
   "cell_type": "code",
   "execution_count": 47,
   "id": "b7a1ebd5",
   "metadata": {},
   "outputs": [],
   "source": [
    "select_stmt = table.select().with_only_columns([table.c[column_name]])\n",
    "result = connection.execute(select_stmt)"
   ]
  },
  {
   "cell_type": "code",
   "execution_count": 48,
   "id": "a7edd808",
   "metadata": {},
   "outputs": [
    {
     "name": "stdout",
     "output_type": "stream",
     "text": [
      "Carnival Corporation & plc (CCL)\n",
      "Bank of America Corporation (BAC)\n",
      "Exxon Mobil Corporation (XOM)\n",
      "Ford Motor Company (F)\n",
      "AT&T Inc. (T)\n",
      "Occidental Petroleum Corporation (OXY)\n",
      "Norwegian Cruise Line Holdings Ltd. (NCLH)\n",
      "Delta Air Lines, Inc. (DAL)\n",
      "Verizon Communications Inc. (VZ)\n",
      "RTX Corporation (RTX)\n"
     ]
    }
   ],
   "source": [
    "for row in result:\n",
    "    print(row[column_name])\n",
    "\n",
    "# Close the database connection\n",
    "connection.close()"
   ]
  },
  {
   "cell_type": "markdown",
   "id": "483cb37e",
   "metadata": {},
   "source": [
    "# check an element"
   ]
  },
  {
   "cell_type": "code",
   "execution_count": 49,
   "id": "4fd9485b",
   "metadata": {},
   "outputs": [
    {
     "ename": "NameError",
     "evalue": "name 'select' is not defined",
     "output_type": "error",
     "traceback": [
      "\u001b[1;31m---------------------------------------------------------------------------\u001b[0m",
      "\u001b[1;31mNameError\u001b[0m                                 Traceback (most recent call last)",
      "Cell \u001b[1;32mIn[49], line 5\u001b[0m\n\u001b[0;32m      2\u001b[0m element_to_find \u001b[38;5;241m=\u001b[39m \u001b[38;5;124m'\u001b[39m\u001b[38;5;124mPG&E Corporation (PCG)\u001b[39m\u001b[38;5;124m'\u001b[39m\n\u001b[0;32m      4\u001b[0m \u001b[38;5;66;03m# Create a query to fetch a row based on a condition\u001b[39;00m\n\u001b[1;32m----> 5\u001b[0m query \u001b[38;5;241m=\u001b[39m select([table])\u001b[38;5;241m.\u001b[39mwhere(table\u001b[38;5;241m.\u001b[39mc\u001b[38;5;241m.\u001b[39mCompany \u001b[38;5;241m==\u001b[39m element_to_find)\n\u001b[0;32m      7\u001b[0m \u001b[38;5;66;03m# Execute the query\u001b[39;00m\n\u001b[0;32m      8\u001b[0m result \u001b[38;5;241m=\u001b[39m dbase1\u001b[38;5;241m.\u001b[39mexecute(query)\n",
      "\u001b[1;31mNameError\u001b[0m: name 'select' is not defined"
     ]
    }
   ],
   "source": [
    "table = Table('stocks', metadata, autoload=True, autoload_with=dbase1)\n",
    "element_to_find = 'PG&E Corporation (PCG)'\n",
    "\n",
    "# Create a query to fetch a row based on a condition\n",
    "query = select([table]).where(table.c.Company == element_to_find)\n",
    "\n",
    "# Execute the query\n",
    "result = dbase1.execute(query)\n",
    "\n",
    "# Fetch the row\n",
    "row = result.fetchone()\n",
    "\n",
    "if row:\n",
    "    print(\"Row found:\")\n",
    "    print(row)\n",
    "else:\n",
    "    print(\"Row not found\")\n",
    "\n",
    "# Close the engine when done\n",
    "#engine.dispose()"
   ]
  },
  {
   "cell_type": "code",
   "execution_count": null,
   "id": "c469a61a",
   "metadata": {},
   "outputs": [],
   "source": []
  }
 ],
 "metadata": {
  "kernelspec": {
   "display_name": "Python 3 (ipykernel)",
   "language": "python",
   "name": "python3"
  },
  "language_info": {
   "codemirror_mode": {
    "name": "ipython",
    "version": 3
   },
   "file_extension": ".py",
   "mimetype": "text/x-python",
   "name": "python",
   "nbconvert_exporter": "python",
   "pygments_lexer": "ipython3",
   "version": "3.11.4"
  }
 },
 "nbformat": 4,
 "nbformat_minor": 5
}
